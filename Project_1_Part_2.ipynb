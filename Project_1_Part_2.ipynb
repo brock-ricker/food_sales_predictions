{
  "nbformat": 4,
  "nbformat_minor": 0,
  "metadata": {
    "colab": {
      "name": "Project_1_Part_2.ipynb",
      "provenance": [],
      "collapsed_sections": [],
      "authorship_tag": "ABX9TyNB9dkRVfkTOw+pxILIfv2C",
      "include_colab_link": true
    },
    "kernelspec": {
      "name": "python3",
      "display_name": "Python 3"
    },
    "language_info": {
      "name": "python"
    }
  },
  "cells": [
    {
      "cell_type": "markdown",
      "metadata": {
        "id": "view-in-github",
        "colab_type": "text"
      },
      "source": [
        "<a href=\"https://colab.research.google.com/github/brock-ricker/food_sales_predictions/blob/main/Project_1_Part_2.ipynb\" target=\"_parent\"><img src=\"https://colab.research.google.com/assets/colab-badge.svg\" alt=\"Open In Colab\"/></a>"
      ]
    },
    {
      "cell_type": "code",
      "execution_count": 80,
      "metadata": {
        "id": "2waob4kcVz0z"
      },
      "outputs": [],
      "source": [
        "#Importing Data\n",
        "\n",
        "import pandas as pd\n",
        "filepath = \"https://raw.githubusercontent.com/brock-ricker/food_sales_predictions/main/sales_predictions.csv\"\n",
        "df = pd.read_csv(filepath)\n"
      ]
    },
    {
      "cell_type": "code",
      "source": [
        "#Initial Data Exploration\n",
        "\n",
        "#Question 1\n",
        "print(f\"{df.shape[0]} rows and {df.shape[1]} columns\")\n",
        "\n",
        "#Question 2\n",
        "print(df.info())"
      ],
      "metadata": {
        "colab": {
          "base_uri": "https://localhost:8080/"
        },
        "id": "AJ9Yqx1xYJwn",
        "outputId": "6d41afd9-65a4-4aa8-f09f-130ee7a39084"
      },
      "execution_count": 81,
      "outputs": [
        {
          "output_type": "stream",
          "name": "stdout",
          "text": [
            "8523 rows and 12 columns\n",
            "<class 'pandas.core.frame.DataFrame'>\n",
            "RangeIndex: 8523 entries, 0 to 8522\n",
            "Data columns (total 12 columns):\n",
            " #   Column                     Non-Null Count  Dtype  \n",
            "---  ------                     --------------  -----  \n",
            " 0   Item_Identifier            8523 non-null   object \n",
            " 1   Item_Weight                7060 non-null   float64\n",
            " 2   Item_Fat_Content           8523 non-null   object \n",
            " 3   Item_Visibility            8523 non-null   float64\n",
            " 4   Item_Type                  8523 non-null   object \n",
            " 5   Item_MRP                   8523 non-null   float64\n",
            " 6   Outlet_Identifier          8523 non-null   object \n",
            " 7   Outlet_Establishment_Year  8523 non-null   int64  \n",
            " 8   Outlet_Size                6113 non-null   object \n",
            " 9   Outlet_Location_Type       8523 non-null   object \n",
            " 10  Outlet_Type                8523 non-null   object \n",
            " 11  Item_Outlet_Sales          8523 non-null   float64\n",
            "dtypes: float64(4), int64(1), object(7)\n",
            "memory usage: 799.2+ KB\n",
            "None\n"
          ]
        }
      ]
    },
    {
      "cell_type": "code",
      "source": [
        "\n",
        "#Dropping Duplicates\n",
        "\n",
        "#Question 3 - finding # of duplicates\n",
        "dups = df.duplicated()\n",
        "print(value_counts(dups))\n",
        "#This is coming back as false (non-dupicates) = 8523, which is the same number of rows as original table, meaning there are no duplicates\n",
        "#another way to check is to try dropping duplicates and then check the size of the resulting table\n",
        "df = df.drop_duplicates()\n",
        "df.info()\n",
        "#same size as original, no duplicates"
      ],
      "metadata": {
        "colab": {
          "base_uri": "https://localhost:8080/"
        },
        "id": "PDFx3S_Ghf32",
        "outputId": "bb8047f8-83a3-4fec-a4f4-f39900736b46"
      },
      "execution_count": 82,
      "outputs": [
        {
          "output_type": "stream",
          "name": "stdout",
          "text": [
            "False    8523\n",
            "dtype: int64\n",
            "<class 'pandas.core.frame.DataFrame'>\n",
            "Int64Index: 8523 entries, 0 to 8522\n",
            "Data columns (total 12 columns):\n",
            " #   Column                     Non-Null Count  Dtype  \n",
            "---  ------                     --------------  -----  \n",
            " 0   Item_Identifier            8523 non-null   object \n",
            " 1   Item_Weight                7060 non-null   float64\n",
            " 2   Item_Fat_Content           8523 non-null   object \n",
            " 3   Item_Visibility            8523 non-null   float64\n",
            " 4   Item_Type                  8523 non-null   object \n",
            " 5   Item_MRP                   8523 non-null   float64\n",
            " 6   Outlet_Identifier          8523 non-null   object \n",
            " 7   Outlet_Establishment_Year  8523 non-null   int64  \n",
            " 8   Outlet_Size                6113 non-null   object \n",
            " 9   Outlet_Location_Type       8523 non-null   object \n",
            " 10  Outlet_Type                8523 non-null   object \n",
            " 11  Item_Outlet_Sales          8523 non-null   float64\n",
            "dtypes: float64(4), int64(1), object(7)\n",
            "memory usage: 865.6+ KB\n"
          ]
        }
      ]
    },
    {
      "cell_type": "code",
      "source": [
        "#Question 4/5 Identifying missing values\n",
        "#To start with, I can see from the df info that Item weight and Outlet size both have null entries (missing values)\n",
        "\n",
        "#Start with item weight:\n",
        "#To fill these missing values, I want to see if I can get the pertinant information from other rows.\n",
        "weights = df.groupby(\"Item_Identifier\")[\"Item_Weight\"].unique()\n",
        "#skimming this series, looks like most items have at least 1 entry for weight, lets use those entries to fill in the blanks. Ill take the mean of each weight entry(per unique item), in case there are >1 non-blank\n",
        "#This will, in effect, replace the blank item wieghts with the average weight of the same item.\n",
        "weights = df.groupby(\"Item_Identifier\")[\"Item_Weight\"].mean().round(2)\n",
        "#creating dictionairy out of these values\n",
        "weight_replace = weights.to_dict()\n",
        "#use this dictionairy to replace the null values\n",
        "df[\"Item_Weight\"] = df[\"Item_Weight\"].fillna(df[\"Item_Identifier\"].map(weight_replace))\n",
        "print(df.info())\n",
        "#now we only have 4 missing values. Since we are down to only 4 missing values out of 8500+, I would rather lose that data than risk is screwing up my analysis. I will most likely drop them, but lets deal with the Outlet size first, before making that decision."
      ],
      "metadata": {
        "colab": {
          "base_uri": "https://localhost:8080/"
        },
        "id": "8ZqB3R_EjfOK",
        "outputId": "3d6185da-f2e7-4ce9-e997-402fd4afba9b"
      },
      "execution_count": 83,
      "outputs": [
        {
          "output_type": "stream",
          "name": "stdout",
          "text": [
            "<class 'pandas.core.frame.DataFrame'>\n",
            "Int64Index: 8523 entries, 0 to 8522\n",
            "Data columns (total 12 columns):\n",
            " #   Column                     Non-Null Count  Dtype  \n",
            "---  ------                     --------------  -----  \n",
            " 0   Item_Identifier            8523 non-null   object \n",
            " 1   Item_Weight                8519 non-null   float64\n",
            " 2   Item_Fat_Content           8523 non-null   object \n",
            " 3   Item_Visibility            8523 non-null   float64\n",
            " 4   Item_Type                  8523 non-null   object \n",
            " 5   Item_MRP                   8523 non-null   float64\n",
            " 6   Outlet_Identifier          8523 non-null   object \n",
            " 7   Outlet_Establishment_Year  8523 non-null   int64  \n",
            " 8   Outlet_Size                6113 non-null   object \n",
            " 9   Outlet_Location_Type       8523 non-null   object \n",
            " 10  Outlet_Type                8523 non-null   object \n",
            " 11  Item_Outlet_Sales          8523 non-null   float64\n",
            "dtypes: float64(4), int64(1), object(7)\n",
            "memory usage: 865.6+ KB\n",
            "None\n"
          ]
        }
      ]
    },
    {
      "cell_type": "code",
      "source": [
        "#Question 5 Identifying missing values cont...\n",
        "\n",
        "#outlet size. I am going to try to use the same strategy as above for outlet size\n",
        "size = df.groupby([\"Outlet_Identifier\",\"Outlet_Location_Type\",\"Outlet_Type\"])[\"Outlet_Size\"].unique()\n",
        "print(size)\n",
        "#Thats not going to work, because the size of some outlets is unknown. And the size for a given outlet_location_type, or outlet_type is not consistent.\n",
        "#If I was given this dataset in a professional setting, I would just pick up the phone and aska about these outlets, but since I don't know how this data will be used yet, I am going to just mark these missing values and \"unknown\"\n",
        "df[\"Outlet_Size\"] = df[\"Outlet_Size\"].fillna(\"unknown\")\n",
        "\n",
        "#and lets drop the missing values now.\n",
        "df = df.dropna(how = \"any\")\n",
        "\n",
        "#Question 6 confirming no more missing data\n",
        "df.info()\n",
        "#no more missing data"
      ],
      "metadata": {
        "colab": {
          "base_uri": "https://localhost:8080/"
        },
        "id": "R0wt9XKovFhA",
        "outputId": "76d6613f-33cd-48fd-c38a-bd6a8e350032"
      },
      "execution_count": 84,
      "outputs": [
        {
          "output_type": "stream",
          "name": "stdout",
          "text": [
            "Outlet_Identifier  Outlet_Location_Type  Outlet_Type      \n",
            "OUT010             Tier 3                Grocery Store           [nan]\n",
            "OUT013             Tier 3                Supermarket Type1      [High]\n",
            "OUT017             Tier 2                Supermarket Type1       [nan]\n",
            "OUT018             Tier 3                Supermarket Type2    [Medium]\n",
            "OUT019             Tier 1                Grocery Store         [Small]\n",
            "OUT027             Tier 3                Supermarket Type3    [Medium]\n",
            "OUT035             Tier 2                Supermarket Type1     [Small]\n",
            "OUT045             Tier 2                Supermarket Type1       [nan]\n",
            "OUT046             Tier 1                Supermarket Type1     [Small]\n",
            "OUT049             Tier 1                Supermarket Type1    [Medium]\n",
            "Name: Outlet_Size, dtype: object\n",
            "<class 'pandas.core.frame.DataFrame'>\n",
            "Int64Index: 8519 entries, 0 to 8522\n",
            "Data columns (total 12 columns):\n",
            " #   Column                     Non-Null Count  Dtype  \n",
            "---  ------                     --------------  -----  \n",
            " 0   Item_Identifier            8519 non-null   object \n",
            " 1   Item_Weight                8519 non-null   float64\n",
            " 2   Item_Fat_Content           8519 non-null   object \n",
            " 3   Item_Visibility            8519 non-null   float64\n",
            " 4   Item_Type                  8519 non-null   object \n",
            " 5   Item_MRP                   8519 non-null   float64\n",
            " 6   Outlet_Identifier          8519 non-null   object \n",
            " 7   Outlet_Establishment_Year  8519 non-null   int64  \n",
            " 8   Outlet_Size                8519 non-null   object \n",
            " 9   Outlet_Location_Type       8519 non-null   object \n",
            " 10  Outlet_Type                8519 non-null   object \n",
            " 11  Item_Outlet_Sales          8519 non-null   float64\n",
            "dtypes: float64(4), int64(1), object(7)\n",
            "memory usage: 865.2+ KB\n"
          ]
        }
      ]
    },
    {
      "cell_type": "code",
      "source": [
        "#Question 7 addressing  inconsistent data\n",
        "\n",
        "#Lets look at unique values for each column and see if there are any oddities. I will skip the item identifier, because I would not be able to spot inconsistincies in those\n",
        "\n",
        "#item _weight - i dont know the wieghts of these products, but I can look for anything funky, like really high values, or really low values\n",
        "print(df[\"Item_Weight\"].min(),df[\"Item_Weight\"].max()) \n",
        "#seems reasonable... 21.35 is high for a food item, but not insane"
      ],
      "metadata": {
        "colab": {
          "base_uri": "https://localhost:8080/"
        },
        "id": "SdUsP35MyN9g",
        "outputId": "6012175f-32cb-43bd-de51-914aa5d1de44"
      },
      "execution_count": 85,
      "outputs": [
        {
          "output_type": "stream",
          "name": "stdout",
          "text": [
            "4.555 21.35\n"
          ]
        }
      ]
    },
    {
      "cell_type": "code",
      "source": [
        "#fat content\n",
        "print(df[\"Item_Fat_Content\"].unique())\n",
        "#lets fix these, first lets create the replacement dict\n",
        "fat_cont = {\"low fat\":\"Low Fat\",\n",
        "            \"LF\":\"Low Fat\",\n",
        "            \"reg\":\"Regular\"\n",
        "            }\n",
        "\n",
        "df[\"Item_Fat_Content\"] = df[\"Item_Fat_Content\"].replace(to_replace = fat_cont)\n",
        "\n",
        "#and check it\n",
        "print(df[\"Item_Fat_Content\"].unique())\n",
        "#looks good"
      ],
      "metadata": {
        "colab": {
          "base_uri": "https://localhost:8080/"
        },
        "id": "mjTPNttO06D7",
        "outputId": "7119f8d7-e04d-46b7-c1e2-293df35183f6"
      },
      "execution_count": 86,
      "outputs": [
        {
          "output_type": "stream",
          "name": "stdout",
          "text": [
            "['Low Fat' 'Regular' 'low fat' 'LF' 'reg']\n",
            "['Low Fat' 'Regular']\n"
          ]
        }
      ]
    },
    {
      "cell_type": "code",
      "source": [
        "#Item Visibility, again, don't know too much about this one, but I know its a %, so nothing can be >100 or<0\n",
        "print(df[\"Item_Visibility\"].min(),df[\"Item_Visibility\"].max()) \n",
        "#checks out"
      ],
      "metadata": {
        "colab": {
          "base_uri": "https://localhost:8080/"
        },
        "id": "A1o89PSs2DDw",
        "outputId": "7dc5b3cc-eecb-43c5-cbde-12a824da4143"
      },
      "execution_count": 87,
      "outputs": [
        {
          "output_type": "stream",
          "name": "stdout",
          "text": [
            "0.0 0.328390948\n"
          ]
        }
      ]
    },
    {
      "cell_type": "code",
      "source": [
        "#item type\n",
        "print(df[\"Item_Type\"].unique())\n",
        "#looks good"
      ],
      "metadata": {
        "colab": {
          "base_uri": "https://localhost:8080/"
        },
        "id": "0MdgwlW02Xwl",
        "outputId": "1e840d55-a630-43a4-dddb-07d6a660dd9a"
      },
      "execution_count": 88,
      "outputs": [
        {
          "output_type": "stream",
          "name": "stdout",
          "text": [
            "['Dairy' 'Soft Drinks' 'Meat' 'Fruits and Vegetables' 'Household'\n",
            " 'Baking Goods' 'Snack Foods' 'Frozen Foods' 'Breakfast'\n",
            " 'Health and Hygiene' 'Hard Drinks' 'Canned' 'Breads' 'Starchy Foods'\n",
            " 'Others' 'Seafood']\n"
          ]
        }
      ]
    },
    {
      "cell_type": "code",
      "source": [
        "#item MRP\n",
        "print(df[\"Item_MRP\"].min(),df[\"Item_MRP\"].max())\n",
        "#prices are reasonable"
      ],
      "metadata": {
        "colab": {
          "base_uri": "https://localhost:8080/"
        },
        "id": "dMiGbbfq2sOz",
        "outputId": "072c5b58-543a-4cba-ceba-5095bdb9148d"
      },
      "execution_count": 89,
      "outputs": [
        {
          "output_type": "stream",
          "name": "stdout",
          "text": [
            "31.29 266.8884\n"
          ]
        }
      ]
    },
    {
      "cell_type": "code",
      "source": [
        "#year est.\n",
        "print(df[\"Outlet_Establishment_Year\"].min(),df[\"Outlet_Establishment_Year\"].max())\n",
        "#reasonable"
      ],
      "metadata": {
        "colab": {
          "base_uri": "https://localhost:8080/"
        },
        "id": "Y8KUTCUU2-Ps",
        "outputId": "f3832998-a958-49bd-e830-63b2792c630a"
      },
      "execution_count": 90,
      "outputs": [
        {
          "output_type": "stream",
          "name": "stdout",
          "text": [
            "1985 2009\n"
          ]
        }
      ]
    },
    {
      "cell_type": "code",
      "source": [
        "# Outlet_Size, Outlet_Location_Type, Outlet_Type - I already reviewed dueing question 4/5/6 but lets check them again just to bsure real quick\n",
        "print(df[\"Outlet_Size\"].unique())\n",
        "print(df[\"Outlet_Location_Type\"].unique())\n",
        "print(df[\"Outlet_Type\"].unique())\n",
        "#looking good"
      ],
      "metadata": {
        "colab": {
          "base_uri": "https://localhost:8080/"
        },
        "id": "xzijjIIJ3O8p",
        "outputId": "0e5ce3a5-6efb-4e28-f59e-2f06d500cd8a"
      },
      "execution_count": 91,
      "outputs": [
        {
          "output_type": "stream",
          "name": "stdout",
          "text": [
            "['Medium' 'unknown' 'High' 'Small']\n",
            "['Tier 1' 'Tier 3' 'Tier 2']\n",
            "['Supermarket Type1' 'Supermarket Type2' 'Grocery Store'\n",
            " 'Supermarket Type3']\n"
          ]
        }
      ]
    },
    {
      "cell_type": "code",
      "source": [
        "#outlet sales\n",
        "print(df[\"Item_Outlet_Sales\"].min(),df[\"Item_Outlet_Sales\"].max())\n",
        "#these numbers don't make sense to me, but im not prepared to do anything with them until I learn more about them."
      ],
      "metadata": {
        "colab": {
          "base_uri": "https://localhost:8080/"
        },
        "id": "Z9J4ssWs3wnz",
        "outputId": "7ed298f1-a78d-4e1e-f327-9bba8dea4d75"
      },
      "execution_count": 92,
      "outputs": [
        {
          "output_type": "stream",
          "name": "stdout",
          "text": [
            "33.29 13086.9648\n"
          ]
        }
      ]
    }
  ]
}